{
 "cells": [
  {
   "cell_type": "markdown",
   "metadata": {},
   "source": [
    "## Exercício prático de regressão linear"
   ]
  },
  {
   "cell_type": "markdown",
   "metadata": {},
   "source": [
    "Instruções: se o dataset 'datasetCarros.csv' em todos os exercícios."
   ]
  },
  {
   "cell_type": "markdown",
   "metadata": {},
   "source": [
    "# 1\n",
    "a) Faça um modelo de regressão linear simples utilizando a variável 'KmRodado' para prever a 'PrecoVenda'.<br>\n",
    "\n",
    "b) Calcule o R2 para o modelo criado."
   ]
  },
  {
   "cell_type": "markdown",
   "metadata": {},
   "source": [
    "Respostas. Parte a"
   ]
  },
  {
   "cell_type": "code",
   "execution_count": 1,
   "metadata": {},
   "outputs": [
    {
     "name": "stdout",
     "output_type": "stream",
     "text": [
      "Exemplo de predição para 5200 km rodados. Preço de venda previsto: 4.540180890515613\n"
     ]
    }
   ],
   "source": [
    "import pandas as pd\n",
    "import numpy as np\n",
    "from sklearn import linear_model\n",
    "\n",
    "## Abre o dataframe\n",
    "df = pd.read_csv(\"datasetCarros.csv\")\n",
    "\n",
    "## Tratamento das duas colunas categoricas\n",
    "df['Trasmissao'] = df['Trasmissao'].astype('category')\n",
    "df['Trasmissao'] = df['Trasmissao'].cat.codes\n",
    "\n",
    "df['TipoCombustivel'] = df['TipoCombustivel'].astype('category')\n",
    "df['TipoCombustivel'] = df['TipoCombustivel'].cat.codes\n",
    "\n",
    "\n",
    "## Define a variavel que será usada na previsão\n",
    "X=df[['Ano', 'PrecoAtual', 'KmRodado',\n",
    "       'TipoCombustivel', 'Trasmissao', 'Owner']]\n",
    "## Define a variavel que será usada para prever\n",
    "y=df[\"PrecoVenda\"]\n",
    "\n",
    "## Faz o reshape para colocar os dados no formato adequado\n",
    "X_use = np.array(X['KmRodado']).reshape((-1, 1))\n",
    "\n",
    "## Define que o modelo de regressão vai ser o linear\n",
    "regr_model = linear_model.LinearRegression()\n",
    "\n",
    "## Realiza o fit com os dados\n",
    "regr_model.fit(X_use, y)\n",
    "\n",
    "\n",
    "print(f\"Exemplo de predição para 5200 km rodados. Preço de venda previsto: {regr_model.predict([[5200]])[0]}\")"
   ]
  },
  {
   "cell_type": "markdown",
   "metadata": {},
   "source": [
    "Parte b"
   ]
  },
  {
   "cell_type": "code",
   "execution_count": 2,
   "metadata": {},
   "outputs": [
    {
     "name": "stdout",
     "output_type": "stream",
     "text": [
      "R2: 0.0008518862620293666\n"
     ]
    }
   ],
   "source": [
    "r_sq = regr_model.score(X_use, y)\n",
    "print('R2:', r_sq)"
   ]
  },
  {
   "cell_type": "markdown",
   "metadata": {},
   "source": [
    "# 2\n",
    "a) Separe o dataset em teste (5%) e treino (95%). Use o método 'train_test_split' do sklearn; configure o parâmetro random_state=10. <br>\n",
    "\n",
    "b) Treine um modelo de regressão linear múltipla no dataset de treino utilizando todas as variáveis (exceto 'Nome') para prever a 'PrecoVenda' e exiba os coeficientes do modelo.<br>\n",
    "\n",
    "c) Avalie o modelo encontrado utilizando o dataset de teste. Calcule o R2 e MSE."
   ]
  },
  {
   "cell_type": "markdown",
   "metadata": {},
   "source": [
    "Respostas. Parte A"
   ]
  },
  {
   "cell_type": "code",
   "execution_count": 3,
   "metadata": {},
   "outputs": [],
   "source": [
    "from sklearn.model_selection import train_test_split\n",
    "X_train, X_test, y_train, y_test = train_test_split(X, y, test_size=0.05, random_state=10)"
   ]
  },
  {
   "cell_type": "markdown",
   "metadata": {},
   "source": [
    "Parte b"
   ]
  },
  {
   "cell_type": "code",
   "execution_count": 4,
   "metadata": {},
   "outputs": [
    {
     "name": "stdout",
     "output_type": "stream",
     "text": [
      "Coeficientes: [ 3.82457823e-01 -2.86702234e-04  1.64623728e-06 -5.58625742e+00\n",
      " -4.73812925e+00 -8.51402501e-01]\n"
     ]
    }
   ],
   "source": [
    "regr_mult = linear_model.LinearRegression()\n",
    "regr_mult.fit(X_train,y_train)\n",
    "\n",
    "print(f\"Coeficientes: {regr_mult.coef_}\")"
   ]
  },
  {
   "cell_type": "markdown",
   "metadata": {},
   "source": [
    "Parte c"
   ]
  },
  {
   "cell_type": "code",
   "execution_count": 5,
   "metadata": {},
   "outputs": [
    {
     "name": "stdout",
     "output_type": "stream",
     "text": [
      "Mean squared error: 8.38\n",
      "R2 (ou coeficiente de determinação): 0.6392\n"
     ]
    }
   ],
   "source": [
    "from sklearn.metrics import mean_squared_error, r2_score\n",
    "\n",
    "y_pred = regr_mult.predict(X_test)\n",
    "\n",
    "# Mean squared error (MSE)\n",
    "print(\"Mean squared error: %.2f\" % mean_squared_error(y_test, y_pred))\n",
    "\n",
    "# O coeficiente de determinação (ou R2)\n",
    "print(\"R2 (ou coeficiente de determinação): %.4f\" % r2_score(y_test, y_pred))\n"
   ]
  }
 ],
 "metadata": {
  "kernelspec": {
   "display_name": "Python 3",
   "language": "python",
   "name": "python3"
  },
  "language_info": {
   "codemirror_mode": {
    "name": "ipython",
    "version": 3
   },
   "file_extension": ".py",
   "mimetype": "text/x-python",
   "name": "python",
   "nbconvert_exporter": "python",
   "pygments_lexer": "ipython3",
   "version": "3.7.6"
  }
 },
 "nbformat": 4,
 "nbformat_minor": 4
}
