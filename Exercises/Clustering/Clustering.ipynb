{
 "cells": [
  {
   "cell_type": "markdown",
   "id": "bf5ff0c0",
   "metadata": {},
   "source": [
    "<h1> Exercicio 6 </h1>\n",
    "By: Luan C. Klein"
   ]
  },
  {
   "cell_type": "code",
   "execution_count": 1,
   "id": "e0e6856f",
   "metadata": {},
   "outputs": [],
   "source": [
    "import pandas as pd\n",
    "from sklearn.cluster import DBSCAN\n",
    "import folium\n",
    "from folium.plugins import HeatMap"
   ]
  },
  {
   "cell_type": "code",
   "execution_count": 2,
   "id": "566ed2d9",
   "metadata": {},
   "outputs": [],
   "source": [
    "df = pd.read_csv(\"X_trainToronto.csv\")"
   ]
  },
  {
   "cell_type": "markdown",
   "id": "102211ac",
   "metadata": {},
   "source": [
    "a) Agrupe os estabelecimentos que são populares. Varie os valores de eps e min_samples. Escolha\n",
    "uma combinação que julgue produzir um resultado interessante. Justifique a sua escolha."
   ]
  },
  {
   "cell_type": "code",
   "execution_count": 3,
   "id": "94cb4cab",
   "metadata": {},
   "outputs": [
    {
     "name": "stdout",
     "output_type": "stream",
     "text": [
      "POPULARES\n"
     ]
    },
    {
     "data": {
      "text/html": [
       "<div style=\"width:100%;\"><div style=\"position:relative;width:100%;height:0;padding-bottom:60%;\"><span style=\"color:#565656\">Make this Notebook Trusted to load map: File -> Trust Notebook</span><iframe srcdoc=\"&lt;!DOCTYPE html&gt;\n",
       "&lt;head&gt;    \n",
       "    &lt;meta http-equiv=&quot;content-type&quot; content=&quot;text/html; charset=UTF-8&quot; /&gt;\n",
       "    \n",
       "        &lt;script&gt;\n",
       "            L_NO_TOUCH = false;\n",
       "            L_DISABLE_3D = false;\n",
       "        &lt;/script&gt;\n",
       "    \n",
       "    &lt;style&gt;html, body {width: 100%;height: 100%;margin: 0;padding: 0;}&lt;/style&gt;\n",
       "    &lt;style&gt;#map {position:absolute;top:0;bottom:0;right:0;left:0;}&lt;/style&gt;\n",
       "    &lt;script src=&quot;https://cdn.jsdelivr.net/npm/leaflet@1.6.0/dist/leaflet.js&quot;&gt;&lt;/script&gt;\n",
       "    &lt;script src=&quot;https://code.jquery.com/jquery-1.12.4.min.js&quot;&gt;&lt;/script&gt;\n",
       "    &lt;script src=&quot;https://maxcdn.bootstrapcdn.com/bootstrap/3.2.0/js/bootstrap.min.js&quot;&gt;&lt;/script&gt;\n",
       "    &lt;script src=&quot;https://cdnjs.cloudflare.com/ajax/libs/Leaflet.awesome-markers/2.0.2/leaflet.awesome-markers.js&quot;&gt;&lt;/script&gt;\n",
       "    &lt;link rel=&quot;stylesheet&quot; href=&quot;https://cdn.jsdelivr.net/npm/leaflet@1.6.0/dist/leaflet.css&quot;/&gt;\n",
       "    &lt;link rel=&quot;stylesheet&quot; href=&quot;https://maxcdn.bootstrapcdn.com/bootstrap/3.2.0/css/bootstrap.min.css&quot;/&gt;\n",
       "    &lt;link rel=&quot;stylesheet&quot; href=&quot;https://maxcdn.bootstrapcdn.com/bootstrap/3.2.0/css/bootstrap-theme.min.css&quot;/&gt;\n",
       "    &lt;link rel=&quot;stylesheet&quot; href=&quot;https://maxcdn.bootstrapcdn.com/font-awesome/4.6.3/css/font-awesome.min.css&quot;/&gt;\n",
       "    &lt;link rel=&quot;stylesheet&quot; href=&quot;https://cdnjs.cloudflare.com/ajax/libs/Leaflet.awesome-markers/2.0.2/leaflet.awesome-markers.css&quot;/&gt;\n",
       "    &lt;link rel=&quot;stylesheet&quot; href=&quot;https://cdn.jsdelivr.net/gh/python-visualization/folium/folium/templates/leaflet.awesome.rotate.min.css&quot;/&gt;\n",
       "    \n",
       "            &lt;meta name=&quot;viewport&quot; content=&quot;width=device-width,\n",
       "                initial-scale=1.0, maximum-scale=1.0, user-scalable=no&quot; /&gt;\n",
       "            &lt;style&gt;\n",
       "                #map_ef987d827d36e79d52d97ef63d50e71d {\n",
       "                    position: relative;\n",
       "                    width: 100.0%;\n",
       "                    height: 100.0%;\n",
       "                    left: 0.0%;\n",
       "                    top: 0.0%;\n",
       "                }\n",
       "            &lt;/style&gt;\n",
       "        \n",
       "    &lt;script src=&quot;https://cdn.jsdelivr.net/gh/python-visualization/folium@master/folium/templates/leaflet_heat.min.js&quot;&gt;&lt;/script&gt;\n",
       "&lt;/head&gt;\n",
       "&lt;body&gt;    \n",
       "    \n",
       "            &lt;div class=&quot;folium-map&quot; id=&quot;map_ef987d827d36e79d52d97ef63d50e71d&quot; &gt;&lt;/div&gt;\n",
       "        \n",
       "&lt;/body&gt;\n",
       "&lt;script&gt;    \n",
       "    \n",
       "            var map_ef987d827d36e79d52d97ef63d50e71d = L.map(\n",
       "                &quot;map_ef987d827d36e79d52d97ef63d50e71d&quot;,\n",
       "                {\n",
       "                    center: [43.65107, -79.347015],\n",
       "                    crs: L.CRS.EPSG3857,\n",
       "                    zoom: 10,\n",
       "                    zoomControl: true,\n",
       "                    preferCanvas: false,\n",
       "                }\n",
       "            );\n",
       "\n",
       "            \n",
       "\n",
       "        \n",
       "    \n",
       "            var tile_layer_8ebee2ab9c41a5a59c9f7b9158cff86f = L.tileLayer(\n",
       "                &quot;https://{s}.tile.openstreetmap.org/{z}/{x}/{y}.png&quot;,\n",
       "                {&quot;attribution&quot;: &quot;Data by \\u0026copy; \\u003ca href=\\&quot;http://openstreetmap.org\\&quot;\\u003eOpenStreetMap\\u003c/a\\u003e, under \\u003ca href=\\&quot;http://www.openstreetmap.org/copyright\\&quot;\\u003eODbL\\u003c/a\\u003e.&quot;, &quot;detectRetina&quot;: false, &quot;maxNativeZoom&quot;: 18, &quot;maxZoom&quot;: 18, &quot;minZoom&quot;: 0, &quot;noWrap&quot;: false, &quot;opacity&quot;: 1, &quot;subdomains&quot;: &quot;abc&quot;, &quot;tms&quot;: false}\n",
       "            ).addTo(map_ef987d827d36e79d52d97ef63d50e71d);\n",
       "        \n",
       "    \n",
       "            var heat_map_2b3b1a67a5cd291c36f1809e4b896945 = L.heatLayer(\n",
       "                [[43.6680836, -79.3855352], [43.6541714, -79.4015556], [43.6547751, -79.4022052], [43.6672475, -79.3855441], [43.6557337808, -79.4023242965], [43.6666786253, -79.3854676187], [43.655077, -79.399912], [43.6702093, -79.3920159], [43.6708150454, -79.3920668587], [43.6707196, -79.3909623], [43.6707617, -79.3924323], [43.6695987, -79.3918249], [43.654938, -79.4008335], [43.6550705, -79.399633], [43.6539058, -79.4007969], [43.6674959, -79.38513], [43.6546322, -79.4005588], [43.6677827, -79.385361], [43.6549888, -79.402666], [43.6549426, -79.40196], [43.6547007, -79.4009335], [43.6558673, -79.4024192], [43.6678803, -79.3856303], [43.6712923, -79.3908793], [43.6681546, -79.385758], [43.6700941, -79.3920355], [43.6545216338, -79.4018411636], [43.6694469, -79.3922208], [43.6697204, -79.3931021], [43.6702634, -79.3923747], [43.6670757, -79.3853477], [43.670386, -79.3908119], [43.6674659, -79.3856334], [43.6710536, -79.3909546], [43.6547751, -79.4022052], [43.6709457, -79.392692], [43.6680012, -79.3866348], [43.6542251, -79.4001152], [43.654787, -79.4021369], [43.6549271, -79.4002624], [43.6704629175, -79.3913664669], [43.6703239574, -79.3906814978], [43.6545541, -79.4009272], [43.6558528, -79.4025338], [43.6542332, -79.4017449], [43.6706611, -79.3912971], [43.669928174, -79.3917775154], [43.6700941, -79.3920355], [43.6550342, -79.4019624], [43.6535699, -79.4013798], [43.6539061, -79.4001153], [43.67028, -79.3916834], [43.670878, -79.392433], [43.6550705, -79.3999101], [43.6552886, -79.3993028], [43.6670308, -79.3862151], [43.6547751, -79.4022052], [43.6553907, -79.4025245], [43.6532233, -79.4002488], [43.6544824, -79.4014126], [43.6546087, -79.4014157], [43.6702451, -79.3921988], [43.6682204, -79.3858136], [43.6548607173, -79.3999981865], [43.6702799535, -79.3922807034], [43.6541203, -79.4002527], [43.6549918, -79.3994692], [43.6538808, -79.4005131], [43.6703257, -79.3914892], [43.6710536, -79.3909546], [43.6540622, -79.4014786], [43.6711713, -79.391593], [43.667825, -79.385215], [43.6542149, -79.4003352], [43.6675304, -79.3857696], [43.6702451, -79.3921988], [43.6544824, -79.4014126], [43.6538341, -79.4015484], [43.6539378, -79.4003824], [43.654931, -79.4005976], [43.6709217, -79.3917386], [43.6533289, -79.4015175], [43.6675353, -79.3856618], [43.6682442, -79.386162], [43.6534461, -79.400429], [43.6703244641, -79.3906142287], [43.6549588, -79.4020383], [43.6543411559, -79.4004796073], [43.6676599, -79.3852464], [43.667331, -79.3856849], [43.6537286, -79.4016835], [43.6672523, -79.3856729], [43.6706285, -79.3926029], [43.667513, -79.3850234], [43.6556235, -79.3994838], [43.6546767, -79.4019678], [43.6559148, -79.4023148], [43.6708846, -79.3923788], [43.6550092448, -79.3997564537], [43.6540622, -79.4014786], [43.6544535, -79.4008103], [43.6707617, -79.3924323], [43.6545234, -79.4005358], [43.6548489, -79.4019624], [43.654787, -79.4021369], [43.670953082, -79.3910929663], [43.655074, -79.4024461], [43.6668190174, -79.385469249], [43.6696841, -79.3911817], [43.654581, -79.4024681], [43.6708846, -79.3923788], [43.667033, -79.386202], [43.666979, -79.3852255], [43.6538188, -79.4001545], [43.6668122, -79.3855188], [43.6542328627, -79.4004420357], [43.6675342, -79.3851933], [43.6668997, -79.3850909], [43.6703361, -79.3914216], [43.6542657, -79.4001776], [43.65492, -79.399815], [43.65494148, -79.4002381825], [43.6713528, -79.3909664], [43.6552887, -79.3998718], [43.6679169, -79.3856822], [43.6707196, -79.3909623], [43.6542919, -79.4004376], [43.6670748, -79.3853307], [43.6543636272, -79.3993415354], [43.6551432376, -79.4004035226], [43.6707435, -79.3913851], [43.6545484, -79.4011268], [43.6706285, -79.3926029], [43.6707168, -79.393126], [43.6699613, -79.3929734], [43.6537151, -79.4003294], [43.6547745, -79.4021317], [43.667813388, -79.3850284955], [43.6684803, -79.3859076], [43.6543423, -79.4017865], [43.6549604, -79.3994572], [43.6535472, -79.4000038], [43.6668030422, -79.3853620067], [43.6552037, -79.3992356], [43.6702634, -79.3924035], [43.6669394, -79.3853796], [43.655265, -79.4026203], [43.6702822, -79.3923026], [43.6558153, -79.4023865], [43.6707617, -79.3924323], [43.6546253, -79.4013491], [43.670282, -79.3922977], [43.655127, -79.401609], [43.6694469, -79.3922208], [43.6707660391, -79.3926468163], [43.6546346, -79.401892], [43.6555944, -79.4022042], [43.6547293, -79.4004618], [43.6673344, -79.3858477], [43.6546972, -79.3992667], [43.6552887, -79.3998718], [43.6701066649, -79.3913269043], [43.6707517, -79.390998], [43.667538, -79.386065], [43.6559147397, -79.4023149088], [43.6536625, -79.4005567], [43.6706422, -79.3912868], [43.6702093, -79.3920159], [43.6545694, -79.4017855], [43.6546169, -79.3990919], [43.654828, -79.4009621], [43.654581, -79.4024681], [43.654931, -79.4005976], [43.67126, -79.392294], [43.6538059, -79.4014765], [43.6555422, -79.4026007], [43.6552887, -79.3998718], [43.6683704, -79.386173], [43.6547031, -79.4002122], [43.6548261, -79.4007684], [43.6666348, -79.3861828], [43.6710088, -79.3926572], [43.6541714, -79.4015556], [43.6707435, -79.3913851], [43.6702802, -79.3915381], [43.6681199536, -79.3858337402], [43.654138, -79.4020763], [43.6703043, -79.3915581565], [43.6541053, -79.4019622], [43.6679251, -79.3857339], [43.667531, -79.38573], [43.6716977, -79.3921869], [43.667109, -79.3851348], [43.670282, -79.3922977], [43.6543932, -79.399258], [43.6545837336, -79.4014549255], [43.6546485, -79.4018236], [43.6548158, -79.4024021], [43.6543466, -79.4009509]],\n",
       "                {&quot;blur&quot;: 15, &quot;maxZoom&quot;: 18, &quot;minOpacity&quot;: 0.5, &quot;radius&quot;: 25}\n",
       "            ).addTo(map_ef987d827d36e79d52d97ef63d50e71d);\n",
       "        \n",
       "&lt;/script&gt;\" style=\"position:absolute;width:100%;height:100%;left:0;top:0;border:none !important;\" allowfullscreen webkitallowfullscreen mozallowfullscreen></iframe></div></div>"
      ],
      "text/plain": [
       "<folium.folium.Map at 0x1ce3975a410>"
      ]
     },
     "execution_count": 3,
     "metadata": {},
     "output_type": "execute_result"
    }
   ],
   "source": [
    "print(\"POPULARES\")\n",
    "df_populares = df[df['destaque'] == 1]\n",
    "df_populares = df_populares[['latitude', 'longitude']]\n",
    "\n",
    "mapaToronto = folium.Map(location=[43.651070, -79.347015])\n",
    "\n",
    "dbscanConfig = DBSCAN(eps=0.001, min_samples=40)\n",
    "## Esses valores foram escolhidos porque separam em 3 regiões os estabelecimentos de destaque. Uma delas é bastante 'forte'\n",
    "## enquanto que as outras duas são um pouco mais 'fracas'.\n",
    "\n",
    "dbscanResults = dbscanConfig.fit(df_populares)\n",
    "dbscanResults.labels_\n",
    "df_populares_filtered = df_populares[dbscanResults.labels_ !=-1]\n",
    "\n",
    "pontos  = [[row[0],row[1]] for index, row in df_populares_filtered.iterrows()]\n",
    "\n",
    "HeatMap(pontos).add_to(mapaToronto)\n",
    "mapaToronto"
   ]
  },
  {
   "cell_type": "markdown",
   "id": "8918b994",
   "metadata": {},
   "source": [
    "b) Agrupe os estabelecimentos que não são populares. Varie os valores de eps e min_samples.\n",
    "Escolha uma combinação que julgue produzir um resultado interessante. Justifique a sua escolha."
   ]
  },
  {
   "cell_type": "code",
   "execution_count": 4,
   "id": "c82b7829",
   "metadata": {},
   "outputs": [
    {
     "name": "stdout",
     "output_type": "stream",
     "text": [
      "NÃO POPULARES\n"
     ]
    },
    {
     "data": {
      "text/html": [
       "<div style=\"width:100%;\"><div style=\"position:relative;width:100%;height:0;padding-bottom:60%;\"><span style=\"color:#565656\">Make this Notebook Trusted to load map: File -> Trust Notebook</span><iframe srcdoc=\"&lt;!DOCTYPE html&gt;\n",
       "&lt;head&gt;    \n",
       "    &lt;meta http-equiv=&quot;content-type&quot; content=&quot;text/html; charset=UTF-8&quot; /&gt;\n",
       "    \n",
       "        &lt;script&gt;\n",
       "            L_NO_TOUCH = false;\n",
       "            L_DISABLE_3D = false;\n",
       "        &lt;/script&gt;\n",
       "    \n",
       "    &lt;style&gt;html, body {width: 100%;height: 100%;margin: 0;padding: 0;}&lt;/style&gt;\n",
       "    &lt;style&gt;#map {position:absolute;top:0;bottom:0;right:0;left:0;}&lt;/style&gt;\n",
       "    &lt;script src=&quot;https://cdn.jsdelivr.net/npm/leaflet@1.6.0/dist/leaflet.js&quot;&gt;&lt;/script&gt;\n",
       "    &lt;script src=&quot;https://code.jquery.com/jquery-1.12.4.min.js&quot;&gt;&lt;/script&gt;\n",
       "    &lt;script src=&quot;https://maxcdn.bootstrapcdn.com/bootstrap/3.2.0/js/bootstrap.min.js&quot;&gt;&lt;/script&gt;\n",
       "    &lt;script src=&quot;https://cdnjs.cloudflare.com/ajax/libs/Leaflet.awesome-markers/2.0.2/leaflet.awesome-markers.js&quot;&gt;&lt;/script&gt;\n",
       "    &lt;link rel=&quot;stylesheet&quot; href=&quot;https://cdn.jsdelivr.net/npm/leaflet@1.6.0/dist/leaflet.css&quot;/&gt;\n",
       "    &lt;link rel=&quot;stylesheet&quot; href=&quot;https://maxcdn.bootstrapcdn.com/bootstrap/3.2.0/css/bootstrap.min.css&quot;/&gt;\n",
       "    &lt;link rel=&quot;stylesheet&quot; href=&quot;https://maxcdn.bootstrapcdn.com/bootstrap/3.2.0/css/bootstrap-theme.min.css&quot;/&gt;\n",
       "    &lt;link rel=&quot;stylesheet&quot; href=&quot;https://maxcdn.bootstrapcdn.com/font-awesome/4.6.3/css/font-awesome.min.css&quot;/&gt;\n",
       "    &lt;link rel=&quot;stylesheet&quot; href=&quot;https://cdnjs.cloudflare.com/ajax/libs/Leaflet.awesome-markers/2.0.2/leaflet.awesome-markers.css&quot;/&gt;\n",
       "    &lt;link rel=&quot;stylesheet&quot; href=&quot;https://cdn.jsdelivr.net/gh/python-visualization/folium/folium/templates/leaflet.awesome.rotate.min.css&quot;/&gt;\n",
       "    \n",
       "            &lt;meta name=&quot;viewport&quot; content=&quot;width=device-width,\n",
       "                initial-scale=1.0, maximum-scale=1.0, user-scalable=no&quot; /&gt;\n",
       "            &lt;style&gt;\n",
       "                #map_76e07d28205fa1d291c6c40d26062db8 {\n",
       "                    position: relative;\n",
       "                    width: 100.0%;\n",
       "                    height: 100.0%;\n",
       "                    left: 0.0%;\n",
       "                    top: 0.0%;\n",
       "                }\n",
       "            &lt;/style&gt;\n",
       "        \n",
       "    &lt;script src=&quot;https://cdn.jsdelivr.net/gh/python-visualization/folium@master/folium/templates/leaflet_heat.min.js&quot;&gt;&lt;/script&gt;\n",
       "&lt;/head&gt;\n",
       "&lt;body&gt;    \n",
       "    \n",
       "            &lt;div class=&quot;folium-map&quot; id=&quot;map_76e07d28205fa1d291c6c40d26062db8&quot; &gt;&lt;/div&gt;\n",
       "        \n",
       "&lt;/body&gt;\n",
       "&lt;script&gt;    \n",
       "    \n",
       "            var map_76e07d28205fa1d291c6c40d26062db8 = L.map(\n",
       "                &quot;map_76e07d28205fa1d291c6c40d26062db8&quot;,\n",
       "                {\n",
       "                    center: [43.65107, -79.347015],\n",
       "                    crs: L.CRS.EPSG3857,\n",
       "                    zoom: 10,\n",
       "                    zoomControl: true,\n",
       "                    preferCanvas: false,\n",
       "                }\n",
       "            );\n",
       "\n",
       "            \n",
       "\n",
       "        \n",
       "    \n",
       "            var tile_layer_1133d330e6063e1a2d55f38ae43858e9 = L.tileLayer(\n",
       "                &quot;https://{s}.tile.openstreetmap.org/{z}/{x}/{y}.png&quot;,\n",
       "                {&quot;attribution&quot;: &quot;Data by \\u0026copy; \\u003ca href=\\&quot;http://openstreetmap.org\\&quot;\\u003eOpenStreetMap\\u003c/a\\u003e, under \\u003ca href=\\&quot;http://www.openstreetmap.org/copyright\\&quot;\\u003eODbL\\u003c/a\\u003e.&quot;, &quot;detectRetina&quot;: false, &quot;maxNativeZoom&quot;: 18, &quot;maxZoom&quot;: 18, &quot;minZoom&quot;: 0, &quot;noWrap&quot;: false, &quot;opacity&quot;: 1, &quot;subdomains&quot;: &quot;abc&quot;, &quot;tms&quot;: false}\n",
       "            ).addTo(map_76e07d28205fa1d291c6c40d26062db8);\n",
       "        \n",
       "    \n",
       "            var heat_map_b46adfa7b4b26048bfc3a04155395aa6 = L.heatLayer(\n",
       "                [[43.6549077, -79.3808739], [43.653226, -79.3831843], [43.6538563, -79.379496], [43.6531554223, -79.3836021423], [43.6709082, -79.3910312], [43.6709754, -79.3915619], [43.653226, -79.3831843], [43.6540644, -79.3806966], [43.6717235, -79.391561], [43.655238, -79.3804291], [43.653226, -79.3831843], [43.653929, -79.3802132], [43.6709363964, -79.3910812517], [43.653226, -79.3831843], [43.6540644, -79.3806966], [43.6537079631, -79.3810494647], [43.653226, -79.3831843], [43.6540644, -79.3806966], [43.6707010231, -79.3911426087], [43.6708293, -79.3910056], [43.6532104747, -79.3831950288], [43.6550472, -79.380256], [43.653226, -79.3831843], [43.6537166, -79.380338], [43.653929, -79.3802132], [43.6540644, -79.3806966], [43.6527004781, -79.3802907122], [43.6712923, -79.3908793], [43.653929, -79.3802132], [43.6540644, -79.3806966], [43.653226, -79.3831843], [43.653224, -79.3803279], [43.6540644, -79.3806966], [43.6703481, -79.3919123], [43.653224, -79.3803279], [43.6707435, -79.3913851], [43.653226, -79.3831843], [43.6703961, -79.3915944], [43.6540644, -79.3806966], [43.6535346, -79.3799688], [43.653226, -79.3831843], [43.6709817, -79.3917775], [43.653749, -79.38003], [43.6540644, -79.3806966], [43.6535864, -79.3795516], [43.6703257, -79.3914892], [43.6540644, -79.3806966], [43.6711045, -79.3917374], [43.6702024, -79.3914545], [43.653616, -79.383957], [43.6704342, -79.3914481], [43.6707517, -79.390998], [43.6707121, -79.3918542], [43.6706858, -79.391561], [43.653224, -79.3803279], [43.6540644, -79.3806966], [43.671011, -79.391776], [43.653226, -79.3831843], [43.6707517, -79.390998], [43.653226, -79.3831843], [43.6540644, -79.3806966], [43.6706375, -79.3918846], [43.653226, -79.3831843], [43.653224, -79.3803279], [43.653226, -79.3831843], [43.6543024, -79.3798882], [43.653714, -79.380044], [43.6712119, -79.3918458], [43.6540644, -79.3806966], [43.6534366, -79.3823149], [43.6536106, -79.3800603], [43.6710492, -79.391714], [43.6540667, -79.3800815], [43.6542586793, -79.3814231828], [43.65459, -79.38049], [43.6535594, -79.3804049], [43.653224, -79.3803279], [43.653226, -79.3831843], [43.6540667, -79.3800815], [43.67087, -79.392124], [43.654412959, -79.3808555603], [43.653226, -79.3831843], [43.653226, -79.3831843], [43.6540644, -79.3806966], [43.653226, -79.3831843], [43.6537166, -79.380338], [43.6554144288, -79.3803395255], [43.65367, -79.38007], [43.6711089, -79.3917566], [43.6540644, -79.3806966], [43.653226, -79.3831843], [43.6536498, -79.3800107], [43.6710199, -79.3910854], [43.6540644, -79.3806966], [43.6710536, -79.3909546], [43.6703961, -79.3915944], [43.6533191517, -79.3830984693], [43.653226, -79.3831843], [43.653226, -79.3831843], [43.653224, -79.3803279], [43.6540667, -79.3800815], [43.6540667, -79.3800815], [43.6540644, -79.3806966], [43.6540644, -79.3806966], [43.6549077, -79.3808739], [43.6549077, -79.3808739], [43.653226, -79.3831843], [43.653226, -79.3831843], [43.6707196, -79.3909623], [43.653224, -79.3803279], [43.6538951, -79.3801867], [43.6540644, -79.3806966], [43.653226, -79.3831843], [43.654436, -79.380692], [43.6540644, -79.3806966], [43.653226, -79.3831843], [43.6536106, -79.3800603], [43.6544382, -79.3806994], [43.6540644, -79.3806966], [43.653224, -79.3803279], [43.6540644, -79.3806966], [43.653067, -79.384058], [43.653226, -79.3831843], [43.653224, -79.3803279], [43.6540667, -79.3800815], [43.6703111, -79.3919123], [43.6544757, -79.3799577], [43.6538951, -79.3801867], [43.6540644, -79.3806966], [43.6538666, -79.3801688], [43.653226, -79.3831843], [43.6544382, -79.3806994], [43.6709477, -79.3915019], [43.6535725923, -79.3800708994], [43.6708293, -79.3910056], [43.6535346, -79.3799688], [43.653226, -79.3831843], [43.653226, -79.3831843], [43.6710644, -79.3914435], [43.6546566, -79.3805941], [43.653226, -79.3831843], [43.6702957, -79.3910686], [43.6551447, -79.3800494], [43.6535948864, -79.3798502706], [43.653226, -79.3831843], [43.6540644, -79.3806966], [43.6540644, -79.3806966], [43.653226, -79.3831843], [43.6531243716, -79.3804693222], [43.653226, -79.3831843], [43.6540667, -79.3800815], [43.6540644, -79.3806966], [43.654871, -79.380438], [43.6531911, -79.3800808], [43.653241, -79.3803279], [43.6540644, -79.3806966], [43.6711791, -79.3909506], [43.6540644, -79.3806966], [43.6534829, -79.3840939], [43.653226, -79.3831843], [43.653226, -79.3831843], [43.6540644, -79.3806966], [43.653226, -79.3831843], [43.653226, -79.3831843], [43.653226, -79.3831843], [43.6706611, -79.3912971], [43.6540618, -79.3800507], [43.6708666, -79.3916342], [43.6540644, -79.3806966], [43.654819, -79.3798828], [43.654277, -79.380597], [43.655066, -79.381121], [43.6534351197, -79.3803975731], [43.6704342, -79.3914481], [43.6544382, -79.3806994], [43.6540644, -79.3806966], [43.6533022657, -79.380857572], [43.653226, -79.3831843], [43.671394, -79.391328], [43.6540644, -79.3806966], [43.6541439257, -79.3811324101], [43.653226, -79.3831843], [43.6540644, -79.3806966], [43.6540644, -79.3806966], [43.653226, -79.3831843], [43.653226, -79.3831843], [43.6540644, -79.3806966], [43.6540644, -79.3806966], [43.653226, -79.3831843], [43.6540644, -79.3806966], [43.6713528, -79.3909664], [43.6702347, -79.3912996], [43.6538354, -79.3796137], [43.6540644, -79.3806966], [43.6530622703, -79.3808341026], [43.653226, -79.3831843], [43.6714599, -79.3909152], [43.653226, -79.3831843], [43.653226, -79.3831843], [43.6712119, -79.3918458], [43.6536106, -79.3800603], [43.6540644, -79.3806966], [43.6708167, -79.3912089], [43.6549077, -79.3808739], [43.6549077, -79.3808739], [43.65508, -79.37997], [43.65322941, -79.3797115982], [43.653226, -79.3831843], [43.653226, -79.3831843], [43.6543323519, -79.38039947], [43.6538951, -79.3801867], [43.6546566, -79.3805941], [43.6538403, -79.3795657], [43.6540644, -79.3806966], [43.653226, -79.3831843], [43.6540644, -79.3806966], [43.653226, -79.3831843], [43.653094, -79.3804946], [43.653226, -79.3831843], [43.6713528, -79.3909664], [43.6710536, -79.3909546], [43.6549103413, -79.3801966598], [43.6540644, -79.3806966], [43.6540644, -79.3806966], [43.653929, -79.3802132], [43.6716678, -79.391768], [43.6707196, -79.3909623], [43.653226, -79.3831843], [43.653224, -79.3803279], [43.6706422, -79.3912868], [43.6540644, -79.3806966], [43.6712923, -79.3908793], [43.6549563309, -79.3799972534], [43.653226, -79.3831843], [43.653226, -79.3831843], [43.6538666, -79.3801688]],\n",
       "                {&quot;blur&quot;: 15, &quot;maxZoom&quot;: 18, &quot;minOpacity&quot;: 0.5, &quot;radius&quot;: 25}\n",
       "            ).addTo(map_76e07d28205fa1d291c6c40d26062db8);\n",
       "        \n",
       "&lt;/script&gt;\" style=\"position:absolute;width:100%;height:100%;left:0;top:0;border:none !important;\" allowfullscreen webkitallowfullscreen mozallowfullscreen></iframe></div></div>"
      ],
      "text/plain": [
       "<folium.folium.Map at 0x1ce4a9d9900>"
      ]
     },
     "execution_count": 4,
     "metadata": {},
     "output_type": "execute_result"
    }
   ],
   "source": [
    "import folium\n",
    "from folium.plugins import HeatMap\n",
    "print(\"NÃO POPULARES\")\n",
    "df_nao_populares = df[df['destaque'] == 0]\n",
    "df_nao_populares = df_nao_populares[['latitude', 'longitude']]\n",
    "mapaToronto = folium.Map(location=[43.651070, -79.347015])\n",
    "\n",
    "dbscanConfig = DBSCAN(eps=0.0008, min_samples=50)\n",
    "## Esses valores foram escolhidos porque separam os estabelecimentos de não destaque em duas regiões distintas, uma mais 'forte' e outra mais 'fraca'.\n",
    "dbscanResults = dbscanConfig.fit(df_nao_populares)\n",
    "dbscanResults.labels_\n",
    "df_nao_populares_filtered = df_nao_populares[dbscanResults.labels_ !=-1]\n",
    "\n",
    "pontos  = [[row[0],row[1]] for index, row in df_nao_populares_filtered.iterrows()]\n",
    "\n",
    "HeatMap(pontos).add_to(mapaToronto)\n",
    "mapaToronto"
   ]
  },
  {
   "cell_type": "markdown",
   "id": "7744710a",
   "metadata": {},
   "source": [
    "c) Visualize os clusters encontrados para ambos os casos. Existe alguma tendência de concentração\n",
    "em determinadas partes da cidade? Faça uma breve análise dos resultados encontrados."
   ]
  },
  {
   "cell_type": "markdown",
   "id": "1411f977",
   "metadata": {},
   "source": [
    "Sim, existe uma tendencia. Observa-se que a região ao lado da spadina avenue é uma região de grande concentração de estabecimentos\n",
    "de destaque. \n",
    "Já a região perto de Yonge street apresenta uma concetação de estabelecimentos de não destaque.\n",
    "Além disso, a região perto de Yorkville Street apresenta uma concetração tanto de estabelecimentos de destaque como de não destaque."
   ]
  },
  {
   "cell_type": "code",
   "execution_count": null,
   "id": "1601dce4",
   "metadata": {},
   "outputs": [],
   "source": []
  },
  {
   "cell_type": "code",
   "execution_count": null,
   "id": "46a37e50",
   "metadata": {},
   "outputs": [],
   "source": []
  },
  {
   "cell_type": "code",
   "execution_count": null,
   "id": "0d805665",
   "metadata": {},
   "outputs": [],
   "source": []
  },
  {
   "cell_type": "code",
   "execution_count": null,
   "id": "df1107cd",
   "metadata": {},
   "outputs": [],
   "source": []
  },
  {
   "cell_type": "code",
   "execution_count": 13,
   "id": "7ce62453",
   "metadata": {},
   "outputs": [],
   "source": []
  },
  {
   "cell_type": "code",
   "execution_count": 5,
   "id": "e5f32ddb",
   "metadata": {},
   "outputs": [],
   "source": [
    "import numpy as np"
   ]
  },
  {
   "cell_type": "code",
   "execution_count": 6,
   "id": "63a30b10",
   "metadata": {},
   "outputs": [],
   "source": [
    "def dbscan_predict(model, X):\n",
    "    nr_samples = X.shape[0]\n",
    "    y_new = np.ones(shape=nr_samples, dtype=int) * -1\n",
    "    for i in range(nr_samples):\n",
    "        diff = model.components_ - list(X.iloc[i, :])\n",
    "        dist = np.linalg.norm(diff, axis=1)  # Euclidean distance\n",
    "        shortest_dist_idx = np.argmin(dist)\n",
    "        if dist[shortest_dist_idx] < model.eps:\n",
    "            y_new[i] = model.labels_[model.core_sample_indices_[shortest_dist_idx]]\n",
    "    return y_new"
   ]
  },
  {
   "cell_type": "code",
   "execution_count": 14,
   "id": "bb5fc07a",
   "metadata": {},
   "outputs": [],
   "source": [
    "df_teste = pd.read_csv(\"X_testToronto.csv\")\n",
    "df = pd.read_csv(\"X_trainToronto.csv\")\n",
    "ids = df['business_id']\n",
    "df_use = df[['latitude', 'longitude']]"
   ]
  },
  {
   "cell_type": "code",
   "execution_count": 8,
   "id": "d20cc9ba",
   "metadata": {},
   "outputs": [],
   "source": [
    "result_not_dest = dbscan_predict(dbscanResults, df_use)"
   ]
  },
  {
   "cell_type": "code",
   "execution_count": 9,
   "id": "8671e29c",
   "metadata": {},
   "outputs": [
    {
     "data": {
      "text/plain": [
       "count    2836.000000\n",
       "mean       -0.966150\n",
       "std         0.271355\n",
       "min        -1.000000\n",
       "25%        -1.000000\n",
       "50%        -1.000000\n",
       "75%        -1.000000\n",
       "max         2.000000\n",
       "Name: no_dest_zone, dtype: float64"
      ]
     },
     "execution_count": 9,
     "metadata": {},
     "output_type": "execute_result"
    }
   ],
   "source": [
    "list_tuple = list(zip(ids, result_not_dest))\n",
    "df_final = pd.DataFrame(list_tuple, columns=['business_id', 'no_dest_zone'])\n",
    "df_final['no_dest_zone'].describe()"
   ]
  },
  {
   "cell_type": "code",
   "execution_count": null,
   "id": "1e53eefc",
   "metadata": {},
   "outputs": [],
   "source": []
  },
  {
   "cell_type": "code",
   "execution_count": null,
   "id": "b2c047fb",
   "metadata": {},
   "outputs": [],
   "source": []
  },
  {
   "cell_type": "code",
   "execution_count": null,
   "id": "d51dc4a7",
   "metadata": {},
   "outputs": [],
   "source": []
  },
  {
   "cell_type": "code",
   "execution_count": null,
   "id": "b43caa58",
   "metadata": {},
   "outputs": [],
   "source": []
  },
  {
   "cell_type": "code",
   "execution_count": 26,
   "id": "af4c749a",
   "metadata": {},
   "outputs": [],
   "source": [
    "df_teste = pd.read_csv(\"X_testToronto.csv\")\n",
    "df = pd.read_csv(\"X_trainToronto.csv\")"
   ]
  },
  {
   "cell_type": "code",
   "execution_count": 70,
   "id": "1d07b116",
   "metadata": {},
   "outputs": [],
   "source": [
    "from sklearn.cluster import DBSCAN\n",
    "\n",
    "def add_features_places_train(df):\n",
    "    df_use = df.copy()\n",
    "    ids = df_use['business_id']\n",
    "    \n",
    "    df_pop = df_use[df_use['destaque'] == 1]\n",
    "    ids_pop = df_pop['business_id']\n",
    "    df_no_pop = df_use[df_use['destaque'] == 0]\n",
    "    ids_no_pop = df_pop['business_id']\n",
    "\n",
    "    df_pop = df_pop[['latitude', 'longitude']]\n",
    "    df_no_pop = df_no_pop[['latitude', 'longitude']]\n",
    "    \n",
    "    dbscanConfig_pop = DBSCAN(eps=0.001, min_samples=40)\n",
    "    dbscanConfig_no_pop = DBSCAN(eps=0.0008, min_samples=50)\n",
    "\n",
    "    \n",
    "    dbscanResults_pop = dbscanConfig_pop.fit(df_pop)\n",
    "    dbscanResults_no_pop = dbscanConfig_no_pop.fit(df_no_pop)\n",
    "    \n",
    "    list_pop = list(zip(ids_pop, dbscanResults_pop.labels_))\n",
    "    df_pop_result = pd.DataFrame(list_pop, columns=['business_id', 'pop_zone'])\n",
    "    \n",
    "    list_no_pop = list(zip(ids_no_pop, dbscanResults_no_pop.labels_))\n",
    "    df_no_pop_result = pd.DataFrame(list_pop, columns=['business_id', 'no_pop_zone'])\n",
    "    \n",
    "    df = df.merge(df_pop_result, left_on='business_id', right_on='business_id', how='left')\n",
    "    df = df.merge(df_no_pop_result, left_on='business_id', right_on='business_id', how='left')\n",
    "    \n",
    "    \n",
    "    df['pop_zone'] = df['pop_zone'].fillna(-1)\n",
    "    df['no_pop_zone'] = df['no_pop_zone'].fillna(-1)\n",
    "    \n",
    "    return df, dbscanResults_pop, dbscanResults_no_pop\n",
    "\n",
    "def add_features_places_test(df, model_pop, model_no_pop):\n",
    "    df_use =df.copy()\n",
    "    ids = df_use['business_id']\n",
    "    df_use = df_use[['latitude', 'longitude']]\n",
    "    def dbscan_predict(model, X):\n",
    "        nr_samples = X.shape[0]\n",
    "        y_new = np.ones(shape=nr_samples, dtype=int) * -1\n",
    "        for i in range(nr_samples):\n",
    "            diff = model.components_ - list(X.iloc[i, :])\n",
    "            dist = np.linalg.norm(diff, axis=1)  # Euclidean distance\n",
    "            shortest_dist_idx = np.argmin(dist)\n",
    "            if dist[shortest_dist_idx] < model.eps:\n",
    "                y_new[i] = model.labels_[model.core_sample_indices_[shortest_dist_idx]]\n",
    "        return y_new\n",
    "    pred_zone_pop = dbscan_predict(model_pop, df_use)\n",
    "    pred_zone_no_pop = dbscan_predict(model_no_pop, df_use)\n",
    "    df['pop_zone'] = pred_zone_pop\n",
    "    df['no_pop_zone'] = pred_zone_no_pop\n",
    "    return df"
   ]
  },
  {
   "cell_type": "code",
   "execution_count": 65,
   "id": "057cb68c",
   "metadata": {},
   "outputs": [],
   "source": [
    "from sklearn.model_selection import train_test_split\n",
    "df_train, df_teste = train_test_split(df, test_size=0.2, random_state=42)"
   ]
  },
  {
   "cell_type": "code",
   "execution_count": 72,
   "id": "865b1be4",
   "metadata": {},
   "outputs": [],
   "source": [
    "df_exit, dbscanResults_pop, dbscanResults_no_pop = add_features_places_train(df_train)"
   ]
  },
  {
   "cell_type": "code",
   "execution_count": 67,
   "id": "d45bfcbe",
   "metadata": {},
   "outputs": [],
   "source": [
    "saida = add_features_places_test(df_teste, dbscanResults_pop, dbscanResults_no_pop)"
   ]
  },
  {
   "cell_type": "code",
   "execution_count": 68,
   "id": "d348d2dc",
   "metadata": {},
   "outputs": [
    {
     "data": {
      "text/plain": [
       "-0.03842158019734624"
      ]
     },
     "execution_count": 68,
     "metadata": {},
     "output_type": "execute_result"
    }
   ],
   "source": [
    "saida['destaque'].corr(saida['no_pop_zone'])"
   ]
  },
  {
   "cell_type": "code",
   "execution_count": 69,
   "id": "7404cc96",
   "metadata": {},
   "outputs": [
    {
     "data": {
      "text/plain": [
       "0.02966054352400128"
      ]
     },
     "execution_count": 69,
     "metadata": {},
     "output_type": "execute_result"
    }
   ],
   "source": [
    "saida['destaque'].corr(saida['pop_zone'])"
   ]
  },
  {
   "cell_type": "code",
   "execution_count": null,
   "id": "f3855b23",
   "metadata": {},
   "outputs": [],
   "source": []
  }
 ],
 "metadata": {
  "kernelspec": {
   "display_name": "Python 3 (ipykernel)",
   "language": "python",
   "name": "python3"
  },
  "language_info": {
   "codemirror_mode": {
    "name": "ipython",
    "version": 3
   },
   "file_extension": ".py",
   "mimetype": "text/x-python",
   "name": "python",
   "nbconvert_exporter": "python",
   "pygments_lexer": "ipython3",
   "version": "3.10.4"
  }
 },
 "nbformat": 4,
 "nbformat_minor": 5
}
